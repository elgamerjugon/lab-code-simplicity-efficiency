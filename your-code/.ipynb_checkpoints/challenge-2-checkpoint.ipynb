{
 "cells": [
  {
   "cell_type": "code",
   "execution_count": 11,
   "metadata": {},
   "outputs": [
    {
     "name": "stdout",
     "output_type": "stream",
     "text": [
      "Enter minimum string length: 10\n",
      "Enter maximum string length: 50\n",
      "How many random strings to generate? 10\n",
      "['wpz6k4dd7sm2a8a2spetjqxnwakv4nr0q', 'z7j70boppa2msym8xf4qfa2chs5gw4ygjkut87600i2', 'bgxh4x0pw5aujhuaode', 'tz2ap4ajpbz993iqt7t6if', 'zfcnqb5f4x', '8nmnxw2n21r', 'l17mes1ozpy3f26', 'yxcxto2pnjz620945hqdjsukiosr0gi7cmh2bklqqi', 'w78kmulr2zoxe7ne79q4x0ovbpxzxam2f6', 'q35tprlthc8glm9']\n"
     ]
    }
   ],
   "source": [
    "\"\"\"\n",
    "The code below generates a given number of random strings that consists of numbers and \n",
    "lower case English letters. You can also define the range of the variable lengths of\n",
    "the strings being generated.\n",
    "\n",
    "The code is functional but has a lot of room for improvement. Use what you have learned\n",
    "about simple and efficient code, refactor the code.\n",
    "\"\"\"\n",
    "\n",
    "def RandomStringGenerator(l=12, a=['a','b','c','d','e','f','g','h','i','j','k','l','m','n','o','p','q','r','s','t','u','v','w','x','y','z','0','1','2','3','4','5','6','7','8','9']):\n",
    "    p = 0\n",
    "    s = ''\n",
    "    while p<l:\n",
    "        import random\n",
    "        s += random.choice(a)\n",
    "        p += 1\n",
    "    return s\n",
    "\n",
    "def BatchStringGenerator(n, a=8, b=12):\n",
    "    r = []\n",
    "    for i in range(n):\n",
    "        c = None\n",
    "        if a < b:\n",
    "            import random\n",
    "            c = random.choice(range(a, b))\n",
    "        elif a == b:\n",
    "            c = a\n",
    "        else:\n",
    "            import sys\n",
    "            sys.exit('Incorrect min and max string lengths. Try again.')\n",
    "        r.append(RandomStringGenerator(c))\n",
    "    return r\n",
    "\n",
    "a = input('Enter minimum string length: ')\n",
    "b = input('Enter maximum string length: ')\n",
    "n = input('How many random strings to generate? ')\n",
    "\n",
    "print(BatchStringGenerator(int(n), int(a), int(b)))"
   ]
  },
  {
   "cell_type": "code",
   "execution_count": 14,
   "metadata": {},
   "outputs": [
    {
     "name": "stdout",
     "output_type": "stream",
     "text": [
      "['1zswn7dmh7', 'nde4x', '5gj14h86bnzj1sha', '2yiwwbun4w3i3vki4', 'bw22vg', '4wmvld4', 'r0upblageemt5dw4qo', 'qu3ej4hvy', '8ymqtzamo7ly84o', 'm5lb3erlrdsw']\n"
     ]
    }
   ],
   "source": [
    "import string\n",
    "import random\n",
    "\n",
    "def string_generator(min_length, max_length, string_num):\n",
    "#Cree una lista con todas las letras del abecedario en minúsculas\n",
    "    letters = list(string.ascii_lowercase)\n",
    "#Cree una lista con los números del 1-9 en forma de caracteres o string\n",
    "    numbers = [str(element) for element in range(0,10)]\n",
    "#uní las dos listas que será de donde se tomarán cada caracteres\n",
    "    list_numbers = letters + numbers\n",
    "\n",
    "    words_list = []\n",
    "#Mientras la longitud de la lista que devolveré sea menor al número de palabras solicitado al usuario se seguirán agregando\n",
    "#palabras\n",
    "    while len(words_list) < string_num:\n",
    "        s = \"\"\n",
    "        #Elegí un número Random entre el mínimo y el máximo que ingresó el usuario y este número será la longitud de esa palabra\n",
    "        string_length = random.randint(min_length, max_length + 1)\n",
    "        #Mientras la longitud de la nueva palabra sea menor al número Random se seguirán agregando caracteres\n",
    "        while len(s) < string_length:\n",
    "            s += random.choice(list_numbers)\n",
    "        #Una vez que se han agregado todos los caracteres para una palabra, se agregará esa palabra a la lista\n",
    "        words_list.append(s)\n",
    "        \n",
    "    print(words_list)\n",
    "    \n",
    "string_generator(5,20,10)"
   ]
  },
  {
   "cell_type": "code",
   "execution_count": null,
   "metadata": {},
   "outputs": [],
   "source": []
  },
  {
   "cell_type": "code",
   "execution_count": null,
   "metadata": {},
   "outputs": [],
   "source": []
  }
 ],
 "metadata": {
  "kernelspec": {
   "display_name": "Python 3",
   "language": "python",
   "name": "python3"
  },
  "language_info": {
   "codemirror_mode": {
    "name": "ipython",
    "version": 3
   },
   "file_extension": ".py",
   "mimetype": "text/x-python",
   "name": "python",
   "nbconvert_exporter": "python",
   "pygments_lexer": "ipython3",
   "version": "3.7.3"
  }
 },
 "nbformat": 4,
 "nbformat_minor": 2
}
